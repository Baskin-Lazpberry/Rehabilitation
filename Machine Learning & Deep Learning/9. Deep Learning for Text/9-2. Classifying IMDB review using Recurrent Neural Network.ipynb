{
  "nbformat": 4,
  "nbformat_minor": 0,
  "metadata": {
    "colab": {
      "name": "Untitled0.ipynb",
      "provenance": [],
      "collapsed_sections": []
    },
    "kernelspec": {
      "name": "python3",
      "display_name": "Python 3"
    },
    "language_info": {
      "name": "python"
    },
    "accelerator": "GPU"
  },
  "cells": [
    {
      "cell_type": "code",
      "execution_count": 1,
      "metadata": {
        "id": "81Nsfa2reQai"
      },
      "outputs": [],
      "source": [
        "from tensorflow.keras.datasets import imdb\n",
        "(train_input, train_target), (test_input, test_target) = imdb.load_data(num_words = 500)"
      ]
    },
    {
      "cell_type": "code",
      "source": [
        "print(train_input.shape, test_input.shape)"
      ],
      "metadata": {
        "colab": {
          "base_uri": "https://localhost:8080/"
        },
        "id": "voLMIzuU2r2L",
        "outputId": "856fd57f-8f87-4ea2-ca96-f0cfcf4194ff"
      },
      "execution_count": 2,
      "outputs": [
        {
          "output_type": "stream",
          "name": "stdout",
          "text": [
            "(25000,) (25000,)\n"
          ]
        }
      ]
    },
    {
      "cell_type": "code",
      "source": [
        "print(len(train_input[1]))"
      ],
      "metadata": {
        "colab": {
          "base_uri": "https://localhost:8080/"
        },
        "id": "tJm_kROa207g",
        "outputId": "eb6a9757-92c6-4f6f-ac0a-1b257b45b20c"
      },
      "execution_count": 3,
      "outputs": [
        {
          "output_type": "stream",
          "name": "stdout",
          "text": [
            "189\n"
          ]
        }
      ]
    },
    {
      "cell_type": "code",
      "source": [
        "print(train_input[0])"
      ],
      "metadata": {
        "colab": {
          "base_uri": "https://localhost:8080/"
        },
        "id": "GbSIEwmo239S",
        "outputId": "b3bccae0-1031-4611-9f8b-146b797befa5"
      },
      "execution_count": 4,
      "outputs": [
        {
          "output_type": "stream",
          "name": "stdout",
          "text": [
            "[1, 14, 22, 16, 43, 2, 2, 2, 2, 65, 458, 2, 66, 2, 4, 173, 36, 256, 5, 25, 100, 43, 2, 112, 50, 2, 2, 9, 35, 480, 284, 5, 150, 4, 172, 112, 167, 2, 336, 385, 39, 4, 172, 2, 2, 17, 2, 38, 13, 447, 4, 192, 50, 16, 6, 147, 2, 19, 14, 22, 4, 2, 2, 469, 4, 22, 71, 87, 12, 16, 43, 2, 38, 76, 15, 13, 2, 4, 22, 17, 2, 17, 12, 16, 2, 18, 2, 5, 62, 386, 12, 8, 316, 8, 106, 5, 4, 2, 2, 16, 480, 66, 2, 33, 4, 130, 12, 16, 38, 2, 5, 25, 124, 51, 36, 135, 48, 25, 2, 33, 6, 22, 12, 215, 28, 77, 52, 5, 14, 407, 16, 82, 2, 8, 4, 107, 117, 2, 15, 256, 4, 2, 7, 2, 5, 2, 36, 71, 43, 2, 476, 26, 400, 317, 46, 7, 4, 2, 2, 13, 104, 88, 4, 381, 15, 297, 98, 32, 2, 56, 26, 141, 6, 194, 2, 18, 4, 226, 22, 21, 134, 476, 26, 480, 5, 144, 30, 2, 18, 51, 36, 28, 224, 92, 25, 104, 4, 226, 65, 16, 38, 2, 88, 12, 16, 283, 5, 16, 2, 113, 103, 32, 15, 16, 2, 19, 178, 32]\n"
          ]
        }
      ]
    },
    {
      "cell_type": "code",
      "source": [
        "print(train_target[:20])"
      ],
      "metadata": {
        "colab": {
          "base_uri": "https://localhost:8080/"
        },
        "id": "AoYtxBdE26or",
        "outputId": "f29627f7-ff28-410d-b823-cd372354225c"
      },
      "execution_count": 5,
      "outputs": [
        {
          "output_type": "stream",
          "name": "stdout",
          "text": [
            "[1 0 0 1 0 0 1 0 1 0 1 0 0 0 0 0 1 1 0 1]\n"
          ]
        }
      ]
    },
    {
      "cell_type": "code",
      "source": [
        "from sklearn.model_selection import train_test_split\n",
        "train_input, val_input, train_target, val_target = train_test_split(train_input, train_target, test_size = 0.2, random_state = 42)"
      ],
      "metadata": {
        "id": "Si_AMhZqecme"
      },
      "execution_count": 6,
      "outputs": []
    },
    {
      "cell_type": "code",
      "source": [
        "import numpy as np\n",
        "lengths = np.array([len(x) for x in train_input])"
      ],
      "metadata": {
        "id": "zmzkSdJZ3LKK"
      },
      "execution_count": 7,
      "outputs": []
    },
    {
      "cell_type": "code",
      "source": [
        "print(np.mean(lengths), np.median(lengths))"
      ],
      "metadata": {
        "colab": {
          "base_uri": "https://localhost:8080/"
        },
        "id": "L_NcpowR3Q7T",
        "outputId": "b74e1fa4-f9cd-43e1-e5de-9a4722802776"
      },
      "execution_count": 8,
      "outputs": [
        {
          "output_type": "stream",
          "name": "stdout",
          "text": [
            "239.00925 178.0\n"
          ]
        }
      ]
    },
    {
      "cell_type": "code",
      "source": [
        "import matplotlib.pyplot as plt\n",
        "plt.hist(lengths)\n",
        "plt.xlabel('length')\n",
        "plt.ylabel('freqency')\n",
        "plt.show()"
      ],
      "metadata": {
        "colab": {
          "base_uri": "https://localhost:8080/",
          "height": 279
        },
        "id": "qT3N9Ol_3Vfr",
        "outputId": "bce5bbdc-109f-4c3f-d033-59ddc7daf568"
      },
      "execution_count": 9,
      "outputs": [
        {
          "output_type": "display_data",
          "data": {
            "text/plain": [
              "<Figure size 432x288 with 1 Axes>"
            ],
            "image/png": "[encoded data removed]"
          },
          "metadata": {
            "needs_background": "light"
          }
        }
      ]
    },
    {
      "cell_type": "code",
      "source": [
        "from tensorflow.keras.preprocessing.sequence import pad_sequences\n",
        "train_seq = pad_sequences(train_input, maxlen = 100)"
      ],
      "metadata": {
        "id": "bR4lByZEeuKl"
      },
      "execution_count": 10,
      "outputs": []
    },
    {
      "cell_type": "code",
      "source": [
        "print(train_seq.shape)"
      ],
      "metadata": {
        "colab": {
          "base_uri": "https://localhost:8080/"
        },
        "id": "rJS55wuu3uHR",
        "outputId": "b8ecc592-3202-4fe4-ba62-ca2054662f64"
      },
      "execution_count": 11,
      "outputs": [
        {
          "output_type": "stream",
          "name": "stdout",
          "text": [
            "(20000, 100)\n"
          ]
        }
      ]
    },
    {
      "cell_type": "code",
      "source": [
        "print(train_seq[0])"
      ],
      "metadata": {
        "colab": {
          "base_uri": "https://localhost:8080/"
        },
        "id": "xR1isCQH3znc",
        "outputId": "4404e740-5980-408b-eeaf-7de458a84dfe"
      },
      "execution_count": 12,
      "outputs": [
        {
          "output_type": "stream",
          "name": "stdout",
          "text": [
            "[ 10   4  20   9   2 364 352   5  45   6   2   2  33 269   8   2 142   2\n",
            "   5   2  17  73  17 204   5   2  19  55   2   2  92  66 104  14  20  93\n",
            "  76   2 151  33   4  58  12 188   2 151  12 215  69 224 142  73 237   6\n",
            "   2   7   2   2 188   2 103  14  31  10  10 451   7   2   5   2  80  91\n",
            "   2  30   2  34  14  20 151  50  26 131  49   2  84  46  50  37  80  79\n",
            "   6   2  46   7  14  20  10  10 470 158]\n"
          ]
        }
      ]
    },
    {
      "cell_type": "code",
      "source": [
        "print(train_input[0][-10:])"
      ],
      "metadata": {
        "colab": {
          "base_uri": "https://localhost:8080/"
        },
        "id": "SZk--gYm33br",
        "outputId": "ca77f6fb-10ab-40ce-a487-e0ad6175de7d"
      },
      "execution_count": 13,
      "outputs": [
        {
          "output_type": "stream",
          "name": "stdout",
          "text": [
            "[6, 2, 46, 7, 14, 20, 10, 10, 470, 158]\n"
          ]
        }
      ]
    },
    {
      "cell_type": "code",
      "source": [
        "print(train_input[0][:10])"
      ],
      "metadata": {
        "colab": {
          "base_uri": "https://localhost:8080/"
        },
        "id": "szHZpFDH36pC",
        "outputId": "ff43edb7-2b13-4788-c433-324b39079f6a"
      },
      "execution_count": 14,
      "outputs": [
        {
          "output_type": "stream",
          "name": "stdout",
          "text": [
            "[1, 73, 89, 81, 25, 60, 2, 6, 20, 141]\n"
          ]
        }
      ]
    },
    {
      "cell_type": "code",
      "source": [
        "print(train_seq[5])"
      ],
      "metadata": {
        "colab": {
          "base_uri": "https://localhost:8080/"
        },
        "id": "2OpXIJ4M4IM4",
        "outputId": "f3c0b151-7485-478e-ee42-e85c2a369189"
      },
      "execution_count": 15,
      "outputs": [
        {
          "output_type": "stream",
          "name": "stdout",
          "text": [
            "[  0   0   0   0   1   2 195  19  49   2   2 190   4   2 352   2 183  10\n",
            "  10  13  82  79   4   2  36  71 269   8   2  25  19  49   7   4   2   2\n",
            "   2   2   2  10  10  48  25  40   2  11   2   2  40   2   2   5   4   2\n",
            "   2  95  14 238  56 129   2  10  10  21   2  94 364 352   2   2  11 190\n",
            "  24 484   2   7  94 205 405  10  10  87   2  34  49   2   7   2   2   2\n",
            "   2   2 290   2  46  48  64  18   4   2]\n"
          ]
        }
      ]
    },
    {
      "cell_type": "code",
      "source": [
        "val_seq = pad_sequences(val_input, maxlen = 100)"
      ],
      "metadata": {
        "id": "XVdQZBaSe58r"
      },
      "execution_count": 16,
      "outputs": []
    },
    {
      "cell_type": "code",
      "source": [
        "from tensorflow import keras\n",
        "model = keras.Sequential()\n",
        "model.add(keras.layers.SimpleRNN(8, input_shape = (100, 500)))\n",
        "model.add(keras.layers.Dense(1, activation = 'sigmoid'))"
      ],
      "metadata": {
        "id": "ir_h8a5meqeJ"
      },
      "execution_count": 17,
      "outputs": []
    },
    {
      "cell_type": "code",
      "source": [
        "train_oh = keras.utils.to_categorical(train_seq)"
      ],
      "metadata": {
        "id": "C0M5IpW5fS1W"
      },
      "execution_count": 18,
      "outputs": []
    },
    {
      "cell_type": "code",
      "source": [
        "print(train_oh.shape)"
      ],
      "metadata": {
        "colab": {
          "base_uri": "https://localhost:8080/"
        },
        "id": "22cnkOfC4rTz",
        "outputId": "a25f895c-ccbc-461b-fc18-bcd5d38a2116"
      },
      "execution_count": 19,
      "outputs": [
        {
          "output_type": "stream",
          "name": "stdout",
          "text": [
            "(20000, 100, 500)\n"
          ]
        }
      ]
    },
    {
      "cell_type": "code",
      "source": [
        "print(train_oh[0][0][:12])"
      ],
      "metadata": {
        "colab": {
          "base_uri": "https://localhost:8080/"
        },
        "id": "QYQO5-5Y4yGU",
        "outputId": "f8102cc4-93c7-4adf-af14-8bcdc631e294"
      },
      "execution_count": 20,
      "outputs": [
        {
          "output_type": "stream",
          "name": "stdout",
          "text": [
            "[0. 0. 0. 0. 0. 0. 0. 0. 0. 0. 1. 0.]\n"
          ]
        }
      ]
    },
    {
      "cell_type": "code",
      "source": [
        "print(np.sum(train_oh[0][0]))"
      ],
      "metadata": {
        "colab": {
          "base_uri": "https://localhost:8080/"
        },
        "id": "wn5HRl4B406p",
        "outputId": "c9566b06-f231-4ae2-e920-75c86821974e"
      },
      "execution_count": 21,
      "outputs": [
        {
          "output_type": "stream",
          "name": "stdout",
          "text": [
            "1.0\n"
          ]
        }
      ]
    },
    {
      "cell_type": "code",
      "source": [
        "val_oh = keras.utils.to_categorical(val_seq)"
      ],
      "metadata": {
        "id": "qiDZKD-jf0Ep"
      },
      "execution_count": 22,
      "outputs": []
    },
    {
      "cell_type": "code",
      "source": [
        "model.summary()"
      ],
      "metadata": {
        "colab": {
          "base_uri": "https://localhost:8080/"
        },
        "id": "Eym3XJri5ABq",
        "outputId": "5e7be217-1824-49cc-aedf-dec3dfe27210"
      },
      "execution_count": 23,
      "outputs": [
        {
          "output_type": "stream",
          "name": "stdout",
          "text": [
            "Model: \"sequential\"\n",
            "_________________________________________________________________\n",
            " Layer (type)                Output Shape              Param #   \n",
            "=================================================================\n",
            " simple_rnn (SimpleRNN)      (None, 8)                 4072      \n",
            "                                                                 \n",
            " dense (Dense)               (None, 1)                 9         \n",
            "                                                                 \n",
            "=================================================================\n",
            "Total params: 4,081\n",
            "Trainable params: 4,081\n",
            "Non-trainable params: 0\n",
            "_________________________________________________________________\n"
          ]
        }
      ]
    },
    {
      "cell_type": "code",
      "source": [
        "rmsprop = keras.optimizers.RMSprop(learning_rate = 1e-4)\n",
        "model.compile(optimizer = rmsprop, loss = 'binary_crossentropy', metrics = 'accuracy')\n",
        "checkpoint_cb = keras.callbacks.ModelCheckpoint('best-simplernn-model.h5')\n",
        "earlystopping_cb = keras.callbacks.EarlyStopping(patience = 3, restore_best_weights = True)\n",
        "history = model.fit(train_oh, train_target, epochs = 100, batch_size = 64,\n",
        "                    validation_data = (val_oh, val_target),\n",
        "                    callbacks = [checkpoint_cb, earlystopping_cb])"
      ],
      "metadata": {
        "colab": {
          "base_uri": "https://localhost:8080/"
        },
        "id": "EGseWrJYf9XZ",
        "outputId": "beec3452-b634-42fa-c658-26dcf9b7039d"
      },
      "execution_count": 24,
      "outputs": [
        {
          "output_type": "stream",
          "name": "stdout",
          "text": [
            "Epoch 1/100\n",
            "313/313 [==============================] - 46s 132ms/step - loss: 0.6961 - accuracy: 0.5122 - val_loss: 0.6968 - val_accuracy: 0.4992\n",
            "Epoch 2/100\n",
            "313/313 [==============================] - 42s 133ms/step - loss: 0.6926 - accuracy: 0.5203 - val_loss: 0.6946 - val_accuracy: 0.5128\n",
            "Epoch 3/100\n",
            "313/313 [==============================] - 60s 192ms/step - loss: 0.6900 - accuracy: 0.5304 - val_loss: 0.6927 - val_accuracy: 0.5206\n",
            "Epoch 4/100\n",
            "313/313 [==============================] - 60s 190ms/step - loss: 0.6877 - accuracy: 0.5405 - val_loss: 0.6911 - val_accuracy: 0.5254\n",
            "Epoch 5/100\n",
            "313/313 [==============================] - 51s 163ms/step - loss: 0.6856 - accuracy: 0.5497 - val_loss: 0.6897 - val_accuracy: 0.5310\n",
            "Epoch 6/100\n",
            "313/313 [==============================] - 56s 178ms/step - loss: 0.6836 - accuracy: 0.5564 - val_loss: 0.6885 - val_accuracy: 0.5360\n",
            "Epoch 7/100\n",
            "313/313 [==============================] - 43s 136ms/step - loss: 0.6816 - accuracy: 0.5617 - val_loss: 0.6873 - val_accuracy: 0.5384\n",
            "Epoch 8/100\n",
            "313/313 [==============================] - 43s 137ms/step - loss: 0.6795 - accuracy: 0.5698 - val_loss: 0.6861 - val_accuracy: 0.5418\n",
            "Epoch 9/100\n",
            "313/313 [==============================] - 43s 136ms/step - loss: 0.6774 - accuracy: 0.5757 - val_loss: 0.6850 - val_accuracy: 0.5486\n",
            "Epoch 10/100\n",
            "313/313 [==============================] - 43s 136ms/step - loss: 0.6753 - accuracy: 0.5818 - val_loss: 0.6838 - val_accuracy: 0.5498\n",
            "Epoch 11/100\n",
            "313/313 [==============================] - 43s 136ms/step - loss: 0.6731 - accuracy: 0.5874 - val_loss: 0.6827 - val_accuracy: 0.5502\n",
            "Epoch 12/100\n",
            "313/313 [==============================] - 62s 198ms/step - loss: 0.6709 - accuracy: 0.5916 - val_loss: 0.6817 - val_accuracy: 0.5532\n",
            "Epoch 13/100\n",
            "313/313 [==============================] - 59s 189ms/step - loss: 0.6686 - accuracy: 0.5955 - val_loss: 0.6806 - val_accuracy: 0.5584\n",
            "Epoch 14/100\n",
            "313/313 [==============================] - 42s 136ms/step - loss: 0.6663 - accuracy: 0.6000 - val_loss: 0.6796 - val_accuracy: 0.5594\n",
            "Epoch 15/100\n",
            "313/313 [==============================] - 43s 138ms/step - loss: 0.6639 - accuracy: 0.6038 - val_loss: 0.6785 - val_accuracy: 0.5632\n",
            "Epoch 16/100\n",
            "313/313 [==============================] - 42s 134ms/step - loss: 0.6615 - accuracy: 0.6076 - val_loss: 0.6774 - val_accuracy: 0.5650\n",
            "Epoch 17/100\n",
            "313/313 [==============================] - 62s 197ms/step - loss: 0.6590 - accuracy: 0.6126 - val_loss: 0.6764 - val_accuracy: 0.5714\n",
            "Epoch 18/100\n",
            "313/313 [==============================] - 56s 178ms/step - loss: 0.6564 - accuracy: 0.6164 - val_loss: 0.6751 - val_accuracy: 0.5710\n",
            "Epoch 19/100\n",
            "313/313 [==============================] - 58s 186ms/step - loss: 0.6538 - accuracy: 0.6217 - val_loss: 0.6739 - val_accuracy: 0.5712\n",
            "Epoch 20/100\n",
            "313/313 [==============================] - 40s 127ms/step - loss: 0.6511 - accuracy: 0.6266 - val_loss: 0.6726 - val_accuracy: 0.5746\n",
            "Epoch 21/100\n",
            "313/313 [==============================] - 39s 125ms/step - loss: 0.6483 - accuracy: 0.6305 - val_loss: 0.6712 - val_accuracy: 0.5756\n",
            "Epoch 22/100\n",
            "313/313 [==============================] - 40s 127ms/step - loss: 0.6454 - accuracy: 0.6338 - val_loss: 0.6694 - val_accuracy: 0.5784\n",
            "Epoch 23/100\n",
            "313/313 [==============================] - 40s 126ms/step - loss: 0.6423 - accuracy: 0.6392 - val_loss: 0.6675 - val_accuracy: 0.5812\n",
            "Epoch 24/100\n",
            "313/313 [==============================] - 39s 125ms/step - loss: 0.6389 - accuracy: 0.6425 - val_loss: 0.6652 - val_accuracy: 0.5840\n",
            "Epoch 25/100\n",
            "313/313 [==============================] - 40s 127ms/step - loss: 0.6353 - accuracy: 0.6470 - val_loss: 0.6624 - val_accuracy: 0.5892\n",
            "Epoch 26/100\n",
            "313/313 [==============================] - 39s 126ms/step - loss: 0.6312 - accuracy: 0.6506 - val_loss: 0.6590 - val_accuracy: 0.5920\n",
            "Epoch 27/100\n",
            "313/313 [==============================] - 39s 124ms/step - loss: 0.6264 - accuracy: 0.6550 - val_loss: 0.6539 - val_accuracy: 0.6028\n",
            "Epoch 28/100\n",
            "313/313 [==============================] - 39s 125ms/step - loss: 0.6201 - accuracy: 0.6607 - val_loss: 0.6456 - val_accuracy: 0.6098\n",
            "Epoch 29/100\n",
            "313/313 [==============================] - 39s 124ms/step - loss: 0.6103 - accuracy: 0.6709 - val_loss: 0.6310 - val_accuracy: 0.6370\n",
            "Epoch 30/100\n",
            "313/313 [==============================] - 39s 126ms/step - loss: 0.5781 - accuracy: 0.7012 - val_loss: 0.5565 - val_accuracy: 0.7188\n",
            "Epoch 31/100\n",
            "313/313 [==============================] - 41s 130ms/step - loss: 0.5254 - accuracy: 0.7400 - val_loss: 0.5404 - val_accuracy: 0.7292\n",
            "Epoch 32/100\n",
            "313/313 [==============================] - 39s 125ms/step - loss: 0.5100 - accuracy: 0.7516 - val_loss: 0.5282 - val_accuracy: 0.7372\n",
            "Epoch 33/100\n",
            "313/313 [==============================] - 39s 126ms/step - loss: 0.4973 - accuracy: 0.7632 - val_loss: 0.5199 - val_accuracy: 0.7434\n",
            "Epoch 34/100\n",
            "313/313 [==============================] - 40s 128ms/step - loss: 0.4861 - accuracy: 0.7714 - val_loss: 0.5109 - val_accuracy: 0.7492\n",
            "Epoch 35/100\n",
            "313/313 [==============================] - 39s 125ms/step - loss: 0.4762 - accuracy: 0.7769 - val_loss: 0.5049 - val_accuracy: 0.7574\n",
            "Epoch 36/100\n",
            "313/313 [==============================] - 39s 125ms/step - loss: 0.4677 - accuracy: 0.7832 - val_loss: 0.4995 - val_accuracy: 0.7612\n",
            "Epoch 37/100\n",
            "313/313 [==============================] - 40s 128ms/step - loss: 0.4599 - accuracy: 0.7900 - val_loss: 0.4945 - val_accuracy: 0.7640\n",
            "Epoch 38/100\n",
            "313/313 [==============================] - 40s 126ms/step - loss: 0.4531 - accuracy: 0.7941 - val_loss: 0.4905 - val_accuracy: 0.7660\n",
            "Epoch 39/100\n",
            "313/313 [==============================] - 39s 124ms/step - loss: 0.4471 - accuracy: 0.7977 - val_loss: 0.4876 - val_accuracy: 0.7684\n",
            "Epoch 40/100\n",
            "313/313 [==============================] - 40s 128ms/step - loss: 0.4417 - accuracy: 0.8017 - val_loss: 0.4841 - val_accuracy: 0.7702\n",
            "Epoch 41/100\n",
            "313/313 [==============================] - 39s 124ms/step - loss: 0.4371 - accuracy: 0.8053 - val_loss: 0.4837 - val_accuracy: 0.7680\n",
            "Epoch 42/100\n",
            "313/313 [==============================] - 39s 124ms/step - loss: 0.4324 - accuracy: 0.8055 - val_loss: 0.4851 - val_accuracy: 0.7736\n",
            "Epoch 43/100\n",
            "313/313 [==============================] - 39s 124ms/step - loss: 0.4282 - accuracy: 0.8113 - val_loss: 0.4785 - val_accuracy: 0.7736\n",
            "Epoch 44/100\n",
            "313/313 [==============================] - 40s 129ms/step - loss: 0.4243 - accuracy: 0.8135 - val_loss: 0.4774 - val_accuracy: 0.7776\n",
            "Epoch 45/100\n",
            "313/313 [==============================] - 39s 125ms/step - loss: 0.4209 - accuracy: 0.8163 - val_loss: 0.4758 - val_accuracy: 0.7726\n",
            "Epoch 46/100\n",
            "313/313 [==============================] - 40s 127ms/step - loss: 0.4179 - accuracy: 0.8188 - val_loss: 0.4747 - val_accuracy: 0.7748\n",
            "Epoch 47/100\n",
            "313/313 [==============================] - 39s 124ms/step - loss: 0.4152 - accuracy: 0.8184 - val_loss: 0.4735 - val_accuracy: 0.7770\n",
            "Epoch 48/100\n",
            "313/313 [==============================] - 39s 126ms/step - loss: 0.4121 - accuracy: 0.8192 - val_loss: 0.4724 - val_accuracy: 0.7770\n",
            "Epoch 49/100\n",
            "313/313 [==============================] - 39s 125ms/step - loss: 0.4096 - accuracy: 0.8203 - val_loss: 0.4721 - val_accuracy: 0.7782\n",
            "Epoch 50/100\n",
            "313/313 [==============================] - 39s 125ms/step - loss: 0.4069 - accuracy: 0.8233 - val_loss: 0.4717 - val_accuracy: 0.7798\n",
            "Epoch 51/100\n",
            "313/313 [==============================] - 39s 126ms/step - loss: 0.4046 - accuracy: 0.8224 - val_loss: 0.4731 - val_accuracy: 0.7792\n",
            "Epoch 52/100\n",
            "313/313 [==============================] - 40s 127ms/step - loss: 0.4024 - accuracy: 0.8235 - val_loss: 0.4737 - val_accuracy: 0.7770\n",
            "Epoch 53/100\n",
            "313/313 [==============================] - 38s 123ms/step - loss: 0.4006 - accuracy: 0.8249 - val_loss: 0.4705 - val_accuracy: 0.7796\n",
            "Epoch 54/100\n",
            "313/313 [==============================] - 39s 125ms/step - loss: 0.3982 - accuracy: 0.8259 - val_loss: 0.4703 - val_accuracy: 0.7770\n",
            "Epoch 55/100\n",
            "313/313 [==============================] - 41s 131ms/step - loss: 0.3961 - accuracy: 0.8280 - val_loss: 0.4708 - val_accuracy: 0.7794\n",
            "Epoch 56/100\n",
            "313/313 [==============================] - 41s 130ms/step - loss: 0.3947 - accuracy: 0.8275 - val_loss: 0.4698 - val_accuracy: 0.7778\n",
            "Epoch 57/100\n",
            "313/313 [==============================] - 39s 124ms/step - loss: 0.3926 - accuracy: 0.8306 - val_loss: 0.4696 - val_accuracy: 0.7814\n",
            "Epoch 58/100\n",
            "313/313 [==============================] - 40s 127ms/step - loss: 0.3907 - accuracy: 0.8314 - val_loss: 0.4705 - val_accuracy: 0.7840\n",
            "Epoch 59/100\n",
            "313/313 [==============================] - 39s 124ms/step - loss: 0.3893 - accuracy: 0.8310 - val_loss: 0.4703 - val_accuracy: 0.7810\n",
            "Epoch 60/100\n",
            "313/313 [==============================] - 39s 125ms/step - loss: 0.3876 - accuracy: 0.8322 - val_loss: 0.4721 - val_accuracy: 0.7810\n"
          ]
        }
      ]
    },
    {
      "cell_type": "code",
      "source": [
        "plt.plot(history.history['loss'])\n",
        "plt.plot(history.history['val_loss'])\n",
        "plt.xlabel('epoch')\n",
        "plt.ylabel('loss')\n",
        "plt.legend(['train', 'val'])\n",
        "plt.show()"
      ],
      "metadata": {
        "colab": {
          "base_uri": "https://localhost:8080/",
          "height": 279
        },
        "id": "e5pfu0Pg5rEn",
        "outputId": "7f33649c-f93b-4c8c-a0d2-92f4a284791c"
      },
      "execution_count": 26,
      "outputs": [
        {
          "output_type": "display_data",
          "data": {
            "text/plain": [
              "<Figure size 432x288 with 1 Axes>"
            ],
            "image/png": "[encoded data removed]"
          },
          "metadata": {
            "needs_background": "light"
          }
        }
      ]
    },
    {
      "cell_type": "code",
      "source": [
        "print(train_seq.nbytes, train_oh.nbytes)"
      ],
      "metadata": {
        "colab": {
          "base_uri": "https://localhost:8080/"
        },
        "id": "Re12qr1g5-9r",
        "outputId": "6070c8be-de2c-4059-8898-68e98fd1ff9e"
      },
      "execution_count": 27,
      "outputs": [
        {
          "output_type": "stream",
          "name": "stdout",
          "text": [
            "8000000 4000000000\n"
          ]
        }
      ]
    },
    {
      "cell_type": "code",
      "source": [
        "model2 = keras.Sequential()\n",
        "model2.add(keras.layers.Embedding(500, 16, input_length = 100))\n",
        "model2.add(keras.layers.SimpleRNN(8))\n",
        "model2.add(keras.layers.Dense(1, activation = 'sigmoid'))"
      ],
      "metadata": {
        "id": "Z9_B_j1U6N6T"
      },
      "execution_count": 28,
      "outputs": []
    },
    {
      "cell_type": "code",
      "source": [
        "model2.summary()"
      ],
      "metadata": {
        "colab": {
          "base_uri": "https://localhost:8080/"
        },
        "id": "w9RUARQ87WK4",
        "outputId": "d2e24ad9-6764-4ccd-f1fb-be23d2c7a66d"
      },
      "execution_count": 29,
      "outputs": [
        {
          "output_type": "stream",
          "name": "stdout",
          "text": [
            "Model: \"sequential_1\"\n",
            "_________________________________________________________________\n",
            " Layer (type)                Output Shape              Param #   \n",
            "=================================================================\n",
            " embedding (Embedding)       (None, 100, 16)           8000      \n",
            "                                                                 \n",
            " simple_rnn_1 (SimpleRNN)    (None, 8)                 200       \n",
            "                                                                 \n",
            " dense_1 (Dense)             (None, 1)                 9         \n",
            "                                                                 \n",
            "=================================================================\n",
            "Total params: 8,209\n",
            "Trainable params: 8,209\n",
            "Non-trainable params: 0\n",
            "_________________________________________________________________\n"
          ]
        }
      ]
    },
    {
      "cell_type": "code",
      "source": [
        "rmsprop = keras.optimizers.RMSprop(learning_rate = 1e-4)\n",
        "model2.compile(optimizer = rmsprop, loss = 'binary_crossentropy', metrics = 'accuracy')\n",
        "checkpoint_cb = keras.callbacks.ModelCheckpoint('best-embedding-model.h5')\n",
        "earlystopping_cb = keras.callbacks.EarlyStopping(patience = 3, restore_best_weights = True)\n",
        "history = model2.fit(train_seq, train_target, epochs = 100, batch_size = 64,\n",
        "                     validation_data = (val_seq, val_target),\n",
        "                     callbacks = [checkpoint_cb, earlystopping_cb])"
      ],
      "metadata": {
        "colab": {
          "base_uri": "https://localhost:8080/"
        },
        "id": "EeLTLfOJ8PB0",
        "outputId": "ae824d38-b302-4d6d-eb84-d2d77c114202"
      },
      "execution_count": 31,
      "outputs": [
        {
          "output_type": "stream",
          "name": "stdout",
          "text": [
            "Epoch 1/100\n",
            "313/313 [==============================] - 54s 167ms/step - loss: 0.6759 - accuracy: 0.5655 - val_loss: 0.6371 - val_accuracy: 0.6428\n",
            "Epoch 2/100\n",
            "313/313 [==============================] - 51s 164ms/step - loss: 0.5974 - accuracy: 0.6948 - val_loss: 0.5793 - val_accuracy: 0.7064\n",
            "Epoch 3/100\n",
            "313/313 [==============================] - 52s 166ms/step - loss: 0.5522 - accuracy: 0.7383 - val_loss: 0.5609 - val_accuracy: 0.7208\n",
            "Epoch 4/100\n",
            "313/313 [==============================] - 53s 169ms/step - loss: 0.5261 - accuracy: 0.7577 - val_loss: 0.5305 - val_accuracy: 0.7524\n",
            "Epoch 5/100\n",
            "313/313 [==============================] - 52s 167ms/step - loss: 0.5064 - accuracy: 0.7704 - val_loss: 0.5168 - val_accuracy: 0.7604\n",
            "Epoch 6/100\n",
            "313/313 [==============================] - 51s 163ms/step - loss: 0.4900 - accuracy: 0.7812 - val_loss: 0.4976 - val_accuracy: 0.7738\n",
            "Epoch 7/100\n",
            "313/313 [==============================] - 51s 163ms/step - loss: 0.4769 - accuracy: 0.7876 - val_loss: 0.4860 - val_accuracy: 0.7796\n",
            "Epoch 8/100\n",
            "313/313 [==============================] - 51s 163ms/step - loss: 0.4637 - accuracy: 0.7954 - val_loss: 0.4839 - val_accuracy: 0.7750\n",
            "Epoch 9/100\n",
            "313/313 [==============================] - 51s 161ms/step - loss: 0.4530 - accuracy: 0.8011 - val_loss: 0.4747 - val_accuracy: 0.7840\n",
            "Epoch 10/100\n",
            "313/313 [==============================] - 50s 161ms/step - loss: 0.4449 - accuracy: 0.8026 - val_loss: 0.4635 - val_accuracy: 0.7872\n",
            "Epoch 11/100\n",
            "313/313 [==============================] - 50s 160ms/step - loss: 0.4374 - accuracy: 0.8077 - val_loss: 0.4622 - val_accuracy: 0.7872\n",
            "Epoch 12/100\n",
            "313/313 [==============================] - 51s 162ms/step - loss: 0.4325 - accuracy: 0.8102 - val_loss: 0.4569 - val_accuracy: 0.7880\n",
            "Epoch 13/100\n",
            "313/313 [==============================] - 50s 161ms/step - loss: 0.4274 - accuracy: 0.8127 - val_loss: 0.4603 - val_accuracy: 0.7882\n",
            "Epoch 14/100\n",
            "313/313 [==============================] - 50s 161ms/step - loss: 0.4238 - accuracy: 0.8132 - val_loss: 0.4557 - val_accuracy: 0.7864\n",
            "Epoch 15/100\n",
            "313/313 [==============================] - 50s 160ms/step - loss: 0.4198 - accuracy: 0.8147 - val_loss: 0.4541 - val_accuracy: 0.7868\n",
            "Epoch 16/100\n",
            "313/313 [==============================] - 50s 161ms/step - loss: 0.4176 - accuracy: 0.8166 - val_loss: 0.4517 - val_accuracy: 0.7914\n",
            "Epoch 17/100\n",
            "313/313 [==============================] - 50s 160ms/step - loss: 0.4140 - accuracy: 0.8171 - val_loss: 0.4679 - val_accuracy: 0.7818\n",
            "Epoch 18/100\n",
            "313/313 [==============================] - 50s 159ms/step - loss: 0.4115 - accuracy: 0.8205 - val_loss: 0.4529 - val_accuracy: 0.7906\n",
            "Epoch 19/100\n",
            "313/313 [==============================] - 51s 164ms/step - loss: 0.4098 - accuracy: 0.8182 - val_loss: 0.4557 - val_accuracy: 0.7858\n"
          ]
        }
      ]
    },
    {
      "cell_type": "code",
      "source": [
        "plt.plot(history.history['loss'])\n",
        "plt.plot(history.history['val_loss'])\n",
        "plt.xlabel('epoch')\n",
        "plt.ylabel('loss')\n",
        "plt.legend(['train', 'val'])\n",
        "plt.show()"
      ],
      "metadata": {
        "colab": {
          "base_uri": "https://localhost:8080/",
          "height": 279
        },
        "id": "Mwi2mTVD9SiT",
        "outputId": "374e1aad-72e7-4f9e-ca3f-ee029c01a349"
      },
      "execution_count": 34,
      "outputs": [
        {
          "output_type": "display_data",
          "data": {
            "text/plain": [
              "<Figure size 432x288 with 1 Axes>"
            ],
            "image/png": "[encoded data removed]"
          },
          "metadata": {
            "needs_background": "light"
          }
        }
      ]
    }
  ]
}