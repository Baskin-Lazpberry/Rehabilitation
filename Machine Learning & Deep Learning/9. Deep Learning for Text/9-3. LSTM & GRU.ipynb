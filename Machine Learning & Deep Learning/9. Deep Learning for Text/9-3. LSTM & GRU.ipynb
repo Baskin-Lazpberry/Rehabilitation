{
  "nbformat": 4,
  "nbformat_minor": 0,
  "metadata": {
    "colab": {
      "name": "Untitled3.ipynb",
      "provenance": [],
      "collapsed_sections": []
    },
    "kernelspec": {
      "name": "python3",
      "display_name": "Python 3"
    },
    "language_info": {
      "name": "python"
    },
    "accelerator": "GPU"
  },
  "cells": [
    {
      "cell_type": "code",
      "execution_count": 1,
      "metadata": {
        "colab": {
          "base_uri": "https://localhost:8080/"
        },
        "id": "A6qBaakgHY0r",
        "outputId": "8d414eb4-ce2a-460f-ef22-bfa5d46bfe49"
      },
      "outputs": [
        {
          "output_type": "stream",
          "name": "stdout",
          "text": [
            "Downloading data from https://storage.googleapis.com/tensorflow/tf-keras-datasets/imdb.npz\n",
            "17465344/17464789 [==============================] - 0s 0us/step\n",
            "17473536/17464789 [==============================] - 0s 0us/step\n"
          ]
        }
      ],
      "source": [
        "from tensorflow.keras.datasets import imdb\n",
        "from sklearn.model_selection import train_test_split\n",
        "(train_input, train_target), (test_input, test_target) = imdb.load_data(num_words = 500)\n",
        "train_input, val_input, train_target, val_target = train_test_split(\n",
        "    train_input, train_target, test_size = 0.2, random_state = 42)"
      ]
    },
    {
      "cell_type": "code",
      "source": [
        "from tensorflow.keras.preprocessing.sequence import pad_sequences\n",
        "train_seq = pad_sequences(train_input, maxlen = 100)\n",
        "val_seq = pad_sequences(val_input, maxlen = 100)\n",
        "test_seq = pad_sequences(test_input, maxlen = 100)"
      ],
      "metadata": {
        "id": "wg0OsqBYIIHf"
      },
      "execution_count": 2,
      "outputs": []
    },
    {
      "cell_type": "code",
      "source": [
        "from tensorflow import keras\n",
        "model = keras.Sequential()\n",
        "model.add(keras.layers.Embedding(500, 16, input_length = 100))\n",
        "model.add(keras.layers.LSTM(8))\n",
        "model.add(keras.layers.Dense(1, activation = 'sigmoid'))"
      ],
      "metadata": {
        "id": "-l0E2oFeKvCC"
      },
      "execution_count": 3,
      "outputs": []
    },
    {
      "cell_type": "code",
      "source": [
        "model.summary()"
      ],
      "metadata": {
        "colab": {
          "base_uri": "https://localhost:8080/"
        },
        "id": "15NhNFz-LFLl",
        "outputId": "76d71f84-752a-4ebb-d4d8-23c64f7ce1c6"
      },
      "execution_count": 4,
      "outputs": [
        {
          "output_type": "stream",
          "name": "stdout",
          "text": [
            "Model: \"sequential\"\n",
            "_________________________________________________________________\n",
            " Layer (type)                Output Shape              Param #   \n",
            "=================================================================\n",
            " embedding (Embedding)       (None, 100, 16)           8000      \n",
            "                                                                 \n",
            " lstm (LSTM)                 (None, 8)                 800       \n",
            "                                                                 \n",
            " dense (Dense)               (None, 1)                 9         \n",
            "                                                                 \n",
            "=================================================================\n",
            "Total params: 8,809\n",
            "Trainable params: 8,809\n",
            "Non-trainable params: 0\n",
            "_________________________________________________________________\n"
          ]
        }
      ]
    },
    {
      "cell_type": "code",
      "source": [
        "rmsprop = keras.optimizers.RMSprop(learning_rate = 1e-4)\n",
        "model.compile(optimizer = rmsprop, loss = 'binary_crossentropy', metrics = 'accuracy')\n",
        "checkpoint_cb = keras.callbacks.ModelCheckpoint('best-lstm-model.h5')\n",
        "earlystopping_cb = keras.callbacks.EarlyStopping(patience= 3, restore_best_weights= True)\n",
        "history = model.fit(train_seq, train_target, epochs = 100, batch_size = 64,\n",
        "                    validation_data = (val_seq, val_target),\n",
        "                    callbacks = [checkpoint_cb, earlystopping_cb])"
      ],
      "metadata": {
        "colab": {
          "base_uri": "https://localhost:8080/"
        },
        "id": "V1C7K1hLLF6P",
        "outputId": "89685d09-2461-4e05-9ad3-85efe763e4cb"
      },
      "execution_count": 5,
      "outputs": [
        {
          "output_type": "stream",
          "name": "stdout",
          "text": [
            "Epoch 1/100\n",
            "313/313 [==============================] - 15s 26ms/step - loss: 0.6921 - accuracy: 0.5548 - val_loss: 0.6910 - val_accuracy: 0.6028\n",
            "Epoch 2/100\n",
            "313/313 [==============================] - 8s 24ms/step - loss: 0.6893 - accuracy: 0.6090 - val_loss: 0.6873 - val_accuracy: 0.6232\n",
            "Epoch 3/100\n",
            "313/313 [==============================] - 8s 26ms/step - loss: 0.6837 - accuracy: 0.6383 - val_loss: 0.6798 - val_accuracy: 0.6512\n",
            "Epoch 4/100\n",
            "313/313 [==============================] - 8s 26ms/step - loss: 0.6718 - accuracy: 0.6575 - val_loss: 0.6620 - val_accuracy: 0.6656\n",
            "Epoch 5/100\n",
            "313/313 [==============================] - 8s 25ms/step - loss: 0.6355 - accuracy: 0.6788 - val_loss: 0.5963 - val_accuracy: 0.7096\n",
            "Epoch 6/100\n",
            "313/313 [==============================] - 7s 24ms/step - loss: 0.5701 - accuracy: 0.7392 - val_loss: 0.5560 - val_accuracy: 0.7476\n",
            "Epoch 7/100\n",
            "313/313 [==============================] - 8s 26ms/step - loss: 0.5425 - accuracy: 0.7538 - val_loss: 0.5362 - val_accuracy: 0.7530\n",
            "Epoch 8/100\n",
            "313/313 [==============================] - 7s 24ms/step - loss: 0.5224 - accuracy: 0.7626 - val_loss: 0.5218 - val_accuracy: 0.7580\n",
            "Epoch 9/100\n",
            "313/313 [==============================] - 8s 25ms/step - loss: 0.5048 - accuracy: 0.7721 - val_loss: 0.5068 - val_accuracy: 0.7672\n",
            "Epoch 10/100\n",
            "313/313 [==============================] - 8s 26ms/step - loss: 0.4890 - accuracy: 0.7814 - val_loss: 0.4965 - val_accuracy: 0.7692\n",
            "Epoch 11/100\n",
            "313/313 [==============================] - 7s 22ms/step - loss: 0.4756 - accuracy: 0.7859 - val_loss: 0.4822 - val_accuracy: 0.7774\n",
            "Epoch 12/100\n",
            "313/313 [==============================] - 7s 21ms/step - loss: 0.4643 - accuracy: 0.7905 - val_loss: 0.4740 - val_accuracy: 0.7780\n",
            "Epoch 13/100\n",
            "313/313 [==============================] - 7s 21ms/step - loss: 0.4551 - accuracy: 0.7976 - val_loss: 0.4661 - val_accuracy: 0.7832\n",
            "Epoch 14/100\n",
            "313/313 [==============================] - 7s 21ms/step - loss: 0.4478 - accuracy: 0.7998 - val_loss: 0.4603 - val_accuracy: 0.7880\n",
            "Epoch 15/100\n",
            "313/313 [==============================] - 7s 21ms/step - loss: 0.4414 - accuracy: 0.8019 - val_loss: 0.4565 - val_accuracy: 0.7900\n",
            "Epoch 16/100\n",
            "313/313 [==============================] - 7s 21ms/step - loss: 0.4361 - accuracy: 0.8045 - val_loss: 0.4523 - val_accuracy: 0.7898\n",
            "Epoch 17/100\n",
            "313/313 [==============================] - 7s 22ms/step - loss: 0.4319 - accuracy: 0.8073 - val_loss: 0.4477 - val_accuracy: 0.7930\n",
            "Epoch 18/100\n",
            "313/313 [==============================] - 7s 21ms/step - loss: 0.4281 - accuracy: 0.8074 - val_loss: 0.4452 - val_accuracy: 0.7920\n",
            "Epoch 19/100\n",
            "313/313 [==============================] - 7s 21ms/step - loss: 0.4251 - accuracy: 0.8093 - val_loss: 0.4434 - val_accuracy: 0.7920\n",
            "Epoch 20/100\n",
            "313/313 [==============================] - 7s 21ms/step - loss: 0.4230 - accuracy: 0.8098 - val_loss: 0.4411 - val_accuracy: 0.7932\n",
            "Epoch 21/100\n",
            "313/313 [==============================] - 7s 21ms/step - loss: 0.4208 - accuracy: 0.8120 - val_loss: 0.4403 - val_accuracy: 0.7928\n",
            "Epoch 22/100\n",
            "313/313 [==============================] - 7s 21ms/step - loss: 0.4182 - accuracy: 0.8128 - val_loss: 0.4434 - val_accuracy: 0.7918\n",
            "Epoch 23/100\n",
            "313/313 [==============================] - 7s 23ms/step - loss: 0.4172 - accuracy: 0.8131 - val_loss: 0.4382 - val_accuracy: 0.7942\n",
            "Epoch 24/100\n",
            "313/313 [==============================] - 8s 26ms/step - loss: 0.4158 - accuracy: 0.8137 - val_loss: 0.4366 - val_accuracy: 0.7930\n",
            "Epoch 25/100\n",
            "313/313 [==============================] - 9s 28ms/step - loss: 0.4148 - accuracy: 0.8150 - val_loss: 0.4358 - val_accuracy: 0.7956\n",
            "Epoch 26/100\n",
            "313/313 [==============================] - 8s 24ms/step - loss: 0.4133 - accuracy: 0.8144 - val_loss: 0.4349 - val_accuracy: 0.7948\n",
            "Epoch 27/100\n",
            "313/313 [==============================] - 8s 24ms/step - loss: 0.4124 - accuracy: 0.8159 - val_loss: 0.4338 - val_accuracy: 0.7962\n",
            "Epoch 28/100\n",
            "313/313 [==============================] - 8s 24ms/step - loss: 0.4117 - accuracy: 0.8144 - val_loss: 0.4352 - val_accuracy: 0.7974\n",
            "Epoch 29/100\n",
            "313/313 [==============================] - 8s 25ms/step - loss: 0.4105 - accuracy: 0.8151 - val_loss: 0.4337 - val_accuracy: 0.7972\n",
            "Epoch 30/100\n",
            "313/313 [==============================] - 8s 24ms/step - loss: 0.4096 - accuracy: 0.8157 - val_loss: 0.4324 - val_accuracy: 0.7960\n",
            "Epoch 31/100\n",
            "313/313 [==============================] - 8s 24ms/step - loss: 0.4090 - accuracy: 0.8181 - val_loss: 0.4321 - val_accuracy: 0.7982\n",
            "Epoch 32/100\n",
            "313/313 [==============================] - 7s 22ms/step - loss: 0.4084 - accuracy: 0.8168 - val_loss: 0.4335 - val_accuracy: 0.8008\n",
            "Epoch 33/100\n",
            "313/313 [==============================] - 7s 21ms/step - loss: 0.4078 - accuracy: 0.8152 - val_loss: 0.4313 - val_accuracy: 0.8000\n",
            "Epoch 34/100\n",
            "313/313 [==============================] - 7s 21ms/step - loss: 0.4072 - accuracy: 0.8163 - val_loss: 0.4338 - val_accuracy: 0.7994\n",
            "Epoch 35/100\n",
            "313/313 [==============================] - 7s 21ms/step - loss: 0.4062 - accuracy: 0.8175 - val_loss: 0.4330 - val_accuracy: 0.8018\n",
            "Epoch 36/100\n",
            "313/313 [==============================] - 7s 21ms/step - loss: 0.4060 - accuracy: 0.8170 - val_loss: 0.4307 - val_accuracy: 0.8030\n",
            "Epoch 37/100\n",
            "313/313 [==============================] - 7s 21ms/step - loss: 0.4054 - accuracy: 0.8157 - val_loss: 0.4297 - val_accuracy: 0.8022\n",
            "Epoch 38/100\n",
            "313/313 [==============================] - 7s 21ms/step - loss: 0.4047 - accuracy: 0.8177 - val_loss: 0.4294 - val_accuracy: 0.8022\n",
            "Epoch 39/100\n",
            "313/313 [==============================] - 8s 25ms/step - loss: 0.4044 - accuracy: 0.8164 - val_loss: 0.4304 - val_accuracy: 0.7972\n",
            "Epoch 40/100\n",
            "313/313 [==============================] - 7s 22ms/step - loss: 0.4040 - accuracy: 0.8177 - val_loss: 0.4292 - val_accuracy: 0.8024\n",
            "Epoch 41/100\n",
            "313/313 [==============================] - 8s 24ms/step - loss: 0.4034 - accuracy: 0.8180 - val_loss: 0.4320 - val_accuracy: 0.7954\n",
            "Epoch 42/100\n",
            "313/313 [==============================] - 7s 22ms/step - loss: 0.4029 - accuracy: 0.8171 - val_loss: 0.4306 - val_accuracy: 0.8028\n",
            "Epoch 43/100\n",
            "313/313 [==============================] - 7s 24ms/step - loss: 0.4024 - accuracy: 0.8177 - val_loss: 0.4294 - val_accuracy: 0.8006\n"
          ]
        }
      ]
    },
    {
      "cell_type": "code",
      "source": [
        "import matplotlib.pyplot as plt\n",
        "plt.plot(history.history['loss'])\n",
        "plt.plot(history.history['val_loss'])\n",
        "plt.xlabel('epoch')\n",
        "plt.ylabel('loss')\n",
        "plt.legend(['train', 'val'])\n",
        "plt.show()"
      ],
      "metadata": {
        "colab": {
          "base_uri": "https://localhost:8080/",
          "height": 279
        },
        "id": "XcK_RXkHMMiR",
        "outputId": "c18524ac-31f3-4712-fba9-1d0838a916ca"
      },
      "execution_count": 7,
      "outputs": [
        {
          "output_type": "display_data",
          "data": {
            "text/plain": [
              "<Figure size 432x288 with 1 Axes>"
            ],
            "image/png": "[encoded data removed]"
          },
          "metadata": {
            "needs_background": "light"
          }
        }
      ]
    },
    {
      "cell_type": "code",
      "source": [
        "model2 = keras.Sequential()\n",
        "model2.add(keras.layers.Embedding(500, 16, input_length = 100))\n",
        "model2.add(keras.layers.LSTM(8, dropout = 0.3))\n",
        "model2.add(keras.layers.Dense(1, activation = 'sigmoid'))"
      ],
      "metadata": {
        "id": "1H7dGhs8M1nY"
      },
      "execution_count": 8,
      "outputs": []
    },
    {
      "cell_type": "code",
      "source": [
        "rmsprop = keras.optimizers.RMSprop(learning_rate = 1e-4)\n",
        "model2.compile(optimizer = rmsprop, loss = 'binary_crossentropy', metrics = 'accuracy')\n",
        "checkpoint_cb = keras.callbacks.ModelCheckpoint('best-lstm-w-dropout-model.h5')\n",
        "earlystopping_cb = keras.callbacks.EarlyStopping(patience= 3, restore_best_weights= True)\n",
        "history = model2.fit(train_seq, train_target, epochs = 100, batch_size = 64,\n",
        "                    validation_data = (val_seq, val_target),\n",
        "                    callbacks = [checkpoint_cb, earlystopping_cb])"
      ],
      "metadata": {
        "colab": {
          "base_uri": "https://localhost:8080/"
        },
        "id": "eR-T967-NRGV",
        "outputId": "21d9accc-1186-44d1-d6ed-3ed2d2312fba"
      },
      "execution_count": 9,
      "outputs": [
        {
          "output_type": "stream",
          "name": "stdout",
          "text": [
            "Epoch 1/100\n",
            "313/313 [==============================] - 10s 23ms/step - loss: 0.6924 - accuracy: 0.5361 - val_loss: 0.6915 - val_accuracy: 0.5880\n",
            "Epoch 2/100\n",
            "313/313 [==============================] - 7s 21ms/step - loss: 0.6903 - accuracy: 0.5893 - val_loss: 0.6889 - val_accuracy: 0.6240\n",
            "Epoch 3/100\n",
            "313/313 [==============================] - 7s 21ms/step - loss: 0.6861 - accuracy: 0.6326 - val_loss: 0.6832 - val_accuracy: 0.6518\n",
            "Epoch 4/100\n",
            "313/313 [==============================] - 7s 21ms/step - loss: 0.6749 - accuracy: 0.6406 - val_loss: 0.6612 - val_accuracy: 0.6350\n",
            "Epoch 5/100\n",
            "313/313 [==============================] - 7s 21ms/step - loss: 0.6279 - accuracy: 0.6875 - val_loss: 0.6106 - val_accuracy: 0.7230\n",
            "Epoch 6/100\n",
            "313/313 [==============================] - 7s 21ms/step - loss: 0.5957 - accuracy: 0.7319 - val_loss: 0.5877 - val_accuracy: 0.7426\n",
            "Epoch 7/100\n",
            "313/313 [==============================] - 7s 22ms/step - loss: 0.5753 - accuracy: 0.7458 - val_loss: 0.5687 - val_accuracy: 0.7538\n",
            "Epoch 8/100\n",
            "313/313 [==============================] - 8s 24ms/step - loss: 0.5573 - accuracy: 0.7552 - val_loss: 0.5536 - val_accuracy: 0.7510\n",
            "Epoch 9/100\n",
            "313/313 [==============================] - 8s 27ms/step - loss: 0.5435 - accuracy: 0.7637 - val_loss: 0.5414 - val_accuracy: 0.7568\n",
            "Epoch 10/100\n",
            "313/313 [==============================] - 9s 27ms/step - loss: 0.5290 - accuracy: 0.7693 - val_loss: 0.5268 - val_accuracy: 0.7706\n",
            "Epoch 11/100\n",
            "313/313 [==============================] - 8s 25ms/step - loss: 0.5139 - accuracy: 0.7784 - val_loss: 0.5134 - val_accuracy: 0.7764\n",
            "Epoch 12/100\n",
            "313/313 [==============================] - 8s 26ms/step - loss: 0.5027 - accuracy: 0.7775 - val_loss: 0.4997 - val_accuracy: 0.7810\n",
            "Epoch 13/100\n",
            "313/313 [==============================] - 8s 26ms/step - loss: 0.4902 - accuracy: 0.7822 - val_loss: 0.4877 - val_accuracy: 0.7810\n",
            "Epoch 14/100\n",
            "313/313 [==============================] - 8s 24ms/step - loss: 0.4784 - accuracy: 0.7858 - val_loss: 0.4798 - val_accuracy: 0.7834\n",
            "Epoch 15/100\n",
            "313/313 [==============================] - 8s 25ms/step - loss: 0.4706 - accuracy: 0.7892 - val_loss: 0.4712 - val_accuracy: 0.7860\n",
            "Epoch 16/100\n",
            "313/313 [==============================] - 8s 24ms/step - loss: 0.4634 - accuracy: 0.7916 - val_loss: 0.4663 - val_accuracy: 0.7848\n",
            "Epoch 17/100\n",
            "313/313 [==============================] - 8s 24ms/step - loss: 0.4579 - accuracy: 0.7929 - val_loss: 0.4640 - val_accuracy: 0.7860\n",
            "Epoch 18/100\n",
            "313/313 [==============================] - 8s 25ms/step - loss: 0.4521 - accuracy: 0.7951 - val_loss: 0.4627 - val_accuracy: 0.7880\n",
            "Epoch 19/100\n",
            "313/313 [==============================] - 8s 25ms/step - loss: 0.4511 - accuracy: 0.7976 - val_loss: 0.4567 - val_accuracy: 0.7898\n",
            "Epoch 20/100\n",
            "313/313 [==============================] - 8s 25ms/step - loss: 0.4458 - accuracy: 0.7981 - val_loss: 0.4530 - val_accuracy: 0.7918\n",
            "Epoch 21/100\n",
            "313/313 [==============================] - 7s 23ms/step - loss: 0.4440 - accuracy: 0.8005 - val_loss: 0.4506 - val_accuracy: 0.7920\n",
            "Epoch 22/100\n",
            "313/313 [==============================] - 7s 23ms/step - loss: 0.4411 - accuracy: 0.8041 - val_loss: 0.4512 - val_accuracy: 0.7930\n",
            "Epoch 23/100\n",
            "313/313 [==============================] - 7s 23ms/step - loss: 0.4389 - accuracy: 0.8034 - val_loss: 0.4463 - val_accuracy: 0.7974\n",
            "Epoch 24/100\n",
            "313/313 [==============================] - 7s 21ms/step - loss: 0.4362 - accuracy: 0.8038 - val_loss: 0.4457 - val_accuracy: 0.7956\n",
            "Epoch 25/100\n",
            "313/313 [==============================] - 7s 22ms/step - loss: 0.4351 - accuracy: 0.8027 - val_loss: 0.4441 - val_accuracy: 0.7970\n",
            "Epoch 26/100\n",
            "313/313 [==============================] - 7s 21ms/step - loss: 0.4337 - accuracy: 0.8062 - val_loss: 0.4417 - val_accuracy: 0.8004\n",
            "Epoch 27/100\n",
            "313/313 [==============================] - 7s 21ms/step - loss: 0.4318 - accuracy: 0.8051 - val_loss: 0.4414 - val_accuracy: 0.7978\n",
            "Epoch 28/100\n",
            "313/313 [==============================] - 7s 21ms/step - loss: 0.4323 - accuracy: 0.8030 - val_loss: 0.4395 - val_accuracy: 0.8004\n",
            "Epoch 29/100\n",
            "313/313 [==============================] - 7s 21ms/step - loss: 0.4283 - accuracy: 0.8067 - val_loss: 0.4389 - val_accuracy: 0.7984\n",
            "Epoch 30/100\n",
            "313/313 [==============================] - 7s 21ms/step - loss: 0.4277 - accuracy: 0.8091 - val_loss: 0.4382 - val_accuracy: 0.7992\n",
            "Epoch 31/100\n",
            "313/313 [==============================] - 7s 21ms/step - loss: 0.4264 - accuracy: 0.8079 - val_loss: 0.4385 - val_accuracy: 0.8002\n",
            "Epoch 32/100\n",
            "313/313 [==============================] - 7s 21ms/step - loss: 0.4247 - accuracy: 0.8092 - val_loss: 0.4366 - val_accuracy: 0.8032\n",
            "Epoch 33/100\n",
            "313/313 [==============================] - 7s 21ms/step - loss: 0.4221 - accuracy: 0.8106 - val_loss: 0.4370 - val_accuracy: 0.7992\n",
            "Epoch 34/100\n",
            "313/313 [==============================] - 7s 22ms/step - loss: 0.4236 - accuracy: 0.8080 - val_loss: 0.4384 - val_accuracy: 0.7978\n",
            "Epoch 35/100\n",
            "313/313 [==============================] - 7s 22ms/step - loss: 0.4224 - accuracy: 0.8102 - val_loss: 0.4367 - val_accuracy: 0.8024\n"
          ]
        }
      ]
    },
    {
      "cell_type": "code",
      "source": [
        "plt.plot(history.history['loss'])\n",
        "plt.plot(history.history['val_loss'])\n",
        "plt.xlabel('epoch')\n",
        "plt.ylabel('loss')\n",
        "plt.legend(['train', 'val'])\n",
        "plt.show()"
      ],
      "metadata": {
        "colab": {
          "base_uri": "https://localhost:8080/",
          "height": 279
        },
        "id": "hDYfht40Ni6Q",
        "outputId": "02da5384-641a-4070-bfea-8b150cef0102"
      },
      "execution_count": 10,
      "outputs": [
        {
          "output_type": "display_data",
          "data": {
            "text/plain": [
              "<Figure size 432x288 with 1 Axes>"
            ],
            "image/png": "[encoded data removed]"
          },
          "metadata": {
            "needs_background": "light"
          }
        }
      ]
    },
    {
      "cell_type": "code",
      "source": [
        "model3 = keras.Sequential()\n",
        "model3.add(keras.layers.Embedding(500, 16, input_length = 100))\n",
        "model3.add(keras.layers.LSTM(8, dropout = 0.3, return_sequences = True))\n",
        "model3.add(keras.layers.LSTM(8, dropout = 0.3))\n",
        "model3.add(keras.layers.Dense(1, activation = 'sigmoid'))"
      ],
      "metadata": {
        "id": "kWAbJaK3N9Xk"
      },
      "execution_count": 12,
      "outputs": []
    },
    {
      "cell_type": "code",
      "source": [
        "model3.summary()"
      ],
      "metadata": {
        "colab": {
          "base_uri": "https://localhost:8080/"
        },
        "id": "zw2VNlh3OZ9Y",
        "outputId": "eb62f241-4e1b-44f6-c4a8-89e1a0dba3de"
      },
      "execution_count": 13,
      "outputs": [
        {
          "output_type": "stream",
          "name": "stdout",
          "text": [
            "Model: \"sequential_2\"\n",
            "_________________________________________________________________\n",
            " Layer (type)                Output Shape              Param #   \n",
            "=================================================================\n",
            " embedding_2 (Embedding)     (None, 100, 16)           8000      \n",
            "                                                                 \n",
            " lstm_2 (LSTM)               (None, 100, 8)            800       \n",
            "                                                                 \n",
            " lstm_3 (LSTM)               (None, 8)                 544       \n",
            "                                                                 \n",
            " dense_2 (Dense)             (None, 1)                 9         \n",
            "                                                                 \n",
            "=================================================================\n",
            "Total params: 9,353\n",
            "Trainable params: 9,353\n",
            "Non-trainable params: 0\n",
            "_________________________________________________________________\n"
          ]
        }
      ]
    },
    {
      "cell_type": "code",
      "source": [
        "rmsprop = keras.optimizers.RMSprop(learning_rate = 1e-4)\n",
        "model3.compile(optimizer = rmsprop, loss = 'binary_crossentropy', metrics = 'accuracy')\n",
        "checkpoint_cb = keras.callbacks.ModelCheckpoint('best-2LSTM-model.h5')\n",
        "earlystopping_cb = keras.callbacks.EarlyStopping(patience = 3, restore_best_weights = True)\n",
        "history = model3.fit(train_seq, train_target, epochs = 100, batch_size = 64,\n",
        "                     validation_data = (val_seq, val_target),\n",
        "                     callbacks = [checkpoint_cb, earlystopping_cb])"
      ],
      "metadata": {
        "colab": {
          "base_uri": "https://localhost:8080/"
        },
        "id": "KSX-bMZJObqV",
        "outputId": "01f1d723-eea4-4761-f682-2294dc32e723"
      },
      "execution_count": 14,
      "outputs": [
        {
          "output_type": "stream",
          "name": "stdout",
          "text": [
            "Epoch 1/100\n",
            "313/313 [==============================] - 19s 47ms/step - loss: 0.6928 - accuracy: 0.5145 - val_loss: 0.6923 - val_accuracy: 0.5660\n",
            "Epoch 2/100\n",
            "313/313 [==============================] - 13s 43ms/step - loss: 0.6896 - accuracy: 0.5867 - val_loss: 0.6846 - val_accuracy: 0.6474\n",
            "Epoch 3/100\n",
            "313/313 [==============================] - 14s 43ms/step - loss: 0.6569 - accuracy: 0.6705 - val_loss: 0.6154 - val_accuracy: 0.6914\n",
            "Epoch 4/100\n",
            "313/313 [==============================] - 14s 44ms/step - loss: 0.5912 - accuracy: 0.7042 - val_loss: 0.5695 - val_accuracy: 0.7218\n",
            "Epoch 5/100\n",
            "313/313 [==============================] - 13s 43ms/step - loss: 0.5569 - accuracy: 0.7304 - val_loss: 0.5464 - val_accuracy: 0.7344\n",
            "Epoch 6/100\n",
            "313/313 [==============================] - 14s 45ms/step - loss: 0.5317 - accuracy: 0.7473 - val_loss: 0.5231 - val_accuracy: 0.7492\n",
            "Epoch 7/100\n",
            "313/313 [==============================] - 13s 43ms/step - loss: 0.5113 - accuracy: 0.7600 - val_loss: 0.5120 - val_accuracy: 0.7540\n",
            "Epoch 8/100\n",
            "313/313 [==============================] - 13s 42ms/step - loss: 0.4993 - accuracy: 0.7667 - val_loss: 0.4921 - val_accuracy: 0.7678\n",
            "Epoch 9/100\n",
            "313/313 [==============================] - 13s 43ms/step - loss: 0.4883 - accuracy: 0.7709 - val_loss: 0.4844 - val_accuracy: 0.7758\n",
            "Epoch 10/100\n",
            "313/313 [==============================] - 13s 42ms/step - loss: 0.4766 - accuracy: 0.7803 - val_loss: 0.4739 - val_accuracy: 0.7780\n",
            "Epoch 11/100\n",
            "313/313 [==============================] - 13s 42ms/step - loss: 0.4723 - accuracy: 0.7799 - val_loss: 0.4675 - val_accuracy: 0.7832\n",
            "Epoch 12/100\n",
            "313/313 [==============================] - 13s 42ms/step - loss: 0.4664 - accuracy: 0.7847 - val_loss: 0.4702 - val_accuracy: 0.7796\n",
            "Epoch 13/100\n",
            "313/313 [==============================] - 13s 43ms/step - loss: 0.4594 - accuracy: 0.7875 - val_loss: 0.4590 - val_accuracy: 0.7858\n",
            "Epoch 14/100\n",
            "313/313 [==============================] - 13s 43ms/step - loss: 0.4570 - accuracy: 0.7918 - val_loss: 0.4561 - val_accuracy: 0.7862\n",
            "Epoch 15/100\n",
            "313/313 [==============================] - 14s 44ms/step - loss: 0.4532 - accuracy: 0.7912 - val_loss: 0.4546 - val_accuracy: 0.7864\n",
            "Epoch 16/100\n",
            "313/313 [==============================] - 13s 43ms/step - loss: 0.4524 - accuracy: 0.7912 - val_loss: 0.4533 - val_accuracy: 0.7898\n",
            "Epoch 17/100\n",
            "313/313 [==============================] - 13s 42ms/step - loss: 0.4494 - accuracy: 0.7932 - val_loss: 0.4541 - val_accuracy: 0.7880\n",
            "Epoch 18/100\n",
            "313/313 [==============================] - 13s 42ms/step - loss: 0.4444 - accuracy: 0.7940 - val_loss: 0.4490 - val_accuracy: 0.7920\n",
            "Epoch 19/100\n",
            "313/313 [==============================] - 13s 42ms/step - loss: 0.4448 - accuracy: 0.7954 - val_loss: 0.4468 - val_accuracy: 0.7944\n",
            "Epoch 20/100\n",
            "313/313 [==============================] - 13s 42ms/step - loss: 0.4394 - accuracy: 0.7980 - val_loss: 0.4467 - val_accuracy: 0.7908\n",
            "Epoch 21/100\n",
            "313/313 [==============================] - 13s 42ms/step - loss: 0.4395 - accuracy: 0.7979 - val_loss: 0.4451 - val_accuracy: 0.7950\n",
            "Epoch 22/100\n",
            "313/313 [==============================] - 13s 43ms/step - loss: 0.4389 - accuracy: 0.7986 - val_loss: 0.4442 - val_accuracy: 0.7912\n",
            "Epoch 23/100\n",
            "313/313 [==============================] - 13s 42ms/step - loss: 0.4358 - accuracy: 0.7961 - val_loss: 0.4466 - val_accuracy: 0.7950\n",
            "Epoch 24/100\n",
            "313/313 [==============================] - 13s 42ms/step - loss: 0.4355 - accuracy: 0.8006 - val_loss: 0.4412 - val_accuracy: 0.7944\n",
            "Epoch 25/100\n",
            "313/313 [==============================] - 13s 42ms/step - loss: 0.4344 - accuracy: 0.7995 - val_loss: 0.4413 - val_accuracy: 0.7994\n",
            "Epoch 26/100\n",
            "313/313 [==============================] - 13s 42ms/step - loss: 0.4327 - accuracy: 0.7997 - val_loss: 0.4394 - val_accuracy: 0.7952\n",
            "Epoch 27/100\n",
            "313/313 [==============================] - 13s 43ms/step - loss: 0.4344 - accuracy: 0.7984 - val_loss: 0.4400 - val_accuracy: 0.7980\n",
            "Epoch 28/100\n",
            "313/313 [==============================] - 13s 43ms/step - loss: 0.4309 - accuracy: 0.8016 - val_loss: 0.4381 - val_accuracy: 0.7960\n",
            "Epoch 29/100\n",
            "313/313 [==============================] - 14s 45ms/step - loss: 0.4303 - accuracy: 0.8020 - val_loss: 0.4373 - val_accuracy: 0.7970\n",
            "Epoch 30/100\n",
            "313/313 [==============================] - 13s 42ms/step - loss: 0.4293 - accuracy: 0.8032 - val_loss: 0.4431 - val_accuracy: 0.7996\n",
            "Epoch 31/100\n",
            "313/313 [==============================] - 14s 44ms/step - loss: 0.4267 - accuracy: 0.8036 - val_loss: 0.4376 - val_accuracy: 0.7936\n",
            "Epoch 32/100\n",
            "313/313 [==============================] - 13s 43ms/step - loss: 0.4262 - accuracy: 0.8040 - val_loss: 0.4361 - val_accuracy: 0.8016\n",
            "Epoch 33/100\n",
            "313/313 [==============================] - 14s 45ms/step - loss: 0.4257 - accuracy: 0.8037 - val_loss: 0.4352 - val_accuracy: 0.7998\n",
            "Epoch 34/100\n",
            "313/313 [==============================] - 13s 43ms/step - loss: 0.4256 - accuracy: 0.8070 - val_loss: 0.4345 - val_accuracy: 0.7994\n",
            "Epoch 35/100\n",
            "313/313 [==============================] - 13s 42ms/step - loss: 0.4238 - accuracy: 0.8061 - val_loss: 0.4356 - val_accuracy: 0.8008\n",
            "Epoch 36/100\n",
            "313/313 [==============================] - 13s 42ms/step - loss: 0.4230 - accuracy: 0.8064 - val_loss: 0.4349 - val_accuracy: 0.8008\n",
            "Epoch 37/100\n",
            "313/313 [==============================] - 13s 42ms/step - loss: 0.4229 - accuracy: 0.8052 - val_loss: 0.4330 - val_accuracy: 0.8014\n",
            "Epoch 38/100\n",
            "313/313 [==============================] - 13s 42ms/step - loss: 0.4213 - accuracy: 0.8091 - val_loss: 0.4325 - val_accuracy: 0.7990\n",
            "Epoch 39/100\n",
            "313/313 [==============================] - 13s 42ms/step - loss: 0.4198 - accuracy: 0.8067 - val_loss: 0.4317 - val_accuracy: 0.8022\n",
            "Epoch 40/100\n",
            "313/313 [==============================] - 13s 42ms/step - loss: 0.4184 - accuracy: 0.8083 - val_loss: 0.4316 - val_accuracy: 0.8026\n",
            "Epoch 41/100\n",
            "313/313 [==============================] - 13s 43ms/step - loss: 0.4185 - accuracy: 0.8086 - val_loss: 0.4344 - val_accuracy: 0.8048\n",
            "Epoch 42/100\n",
            "313/313 [==============================] - 14s 44ms/step - loss: 0.4188 - accuracy: 0.8084 - val_loss: 0.4332 - val_accuracy: 0.8040\n",
            "Epoch 43/100\n",
            "313/313 [==============================] - 14s 43ms/step - loss: 0.4179 - accuracy: 0.8067 - val_loss: 0.4310 - val_accuracy: 0.8032\n",
            "Epoch 44/100\n",
            "313/313 [==============================] - 13s 42ms/step - loss: 0.4167 - accuracy: 0.8076 - val_loss: 0.4297 - val_accuracy: 0.8048\n",
            "Epoch 45/100\n",
            "313/313 [==============================] - 13s 42ms/step - loss: 0.4165 - accuracy: 0.8106 - val_loss: 0.4330 - val_accuracy: 0.7974\n",
            "Epoch 46/100\n",
            "313/313 [==============================] - 13s 42ms/step - loss: 0.4153 - accuracy: 0.8122 - val_loss: 0.4293 - val_accuracy: 0.8044\n",
            "Epoch 47/100\n",
            "313/313 [==============================] - 13s 43ms/step - loss: 0.4143 - accuracy: 0.8117 - val_loss: 0.4329 - val_accuracy: 0.8032\n",
            "Epoch 48/100\n",
            "313/313 [==============================] - 13s 43ms/step - loss: 0.4149 - accuracy: 0.8101 - val_loss: 0.4383 - val_accuracy: 0.7990\n",
            "Epoch 49/100\n",
            "313/313 [==============================] - 13s 43ms/step - loss: 0.4129 - accuracy: 0.8120 - val_loss: 0.4297 - val_accuracy: 0.8050\n"
          ]
        }
      ]
    },
    {
      "cell_type": "code",
      "source": [
        "plt.plot(history.history['loss'])\n",
        "plt.plot(history.history['val_loss'])\n",
        "plt.xlabel('epoch')\n",
        "plt.ylabel('loss')\n",
        "plt.legend(['train', 'val'])\n",
        "plt.show()"
      ],
      "metadata": {
        "colab": {
          "base_uri": "https://localhost:8080/",
          "height": 279
        },
        "id": "53urbE9dPhBP",
        "outputId": "c6b7430e-a761-482f-94bf-6069626373bd"
      },
      "execution_count": 15,
      "outputs": [
        {
          "output_type": "display_data",
          "data": {
            "text/plain": [
              "<Figure size 432x288 with 1 Axes>"
            ],
            "image/png": "[encoded data removed]"
          },
          "metadata": {
            "needs_background": "light"
          }
        }
      ]
    },
    {
      "cell_type": "code",
      "source": [
        "model4 = keras.Sequential()\n",
        "model4.add(keras.layers.Embedding(500, 16, input_length = 100))\n",
        "model4.add(keras.layers.GRU(8))\n",
        "model4.add(keras.layers.Dense(1, activation = 'sigmoid'))"
      ],
      "metadata": {
        "id": "LX7_GkzLPpg6"
      },
      "execution_count": 16,
      "outputs": []
    },
    {
      "cell_type": "code",
      "source": [
        "model4.summary()"
      ],
      "metadata": {
        "colab": {
          "base_uri": "https://localhost:8080/"
        },
        "id": "ZHB-eaT1P23r",
        "outputId": "bee35f30-0d62-4215-c3ea-7b536fb6f481"
      },
      "execution_count": 17,
      "outputs": [
        {
          "output_type": "stream",
          "name": "stdout",
          "text": [
            "Model: \"sequential_3\"\n",
            "_________________________________________________________________\n",
            " Layer (type)                Output Shape              Param #   \n",
            "=================================================================\n",
            " embedding_3 (Embedding)     (None, 100, 16)           8000      \n",
            "                                                                 \n",
            " gru (GRU)                   (None, 8)                 624       \n",
            "                                                                 \n",
            " dense_3 (Dense)             (None, 1)                 9         \n",
            "                                                                 \n",
            "=================================================================\n",
            "Total params: 8,633\n",
            "Trainable params: 8,633\n",
            "Non-trainable params: 0\n",
            "_________________________________________________________________\n"
          ]
        }
      ]
    },
    {
      "cell_type": "code",
      "source": [
        "rmsprop = keras.optimizers.RMSprop(learning_rate = 1e-4)\n",
        "model4.compile(optimizer = rmsprop, loss = 'binary_crossentropy', metrics = 'accuracy')\n",
        "checkpoint_cb = keras.callbacks.ModelCheckpoint('best-gru-model.h5')\n",
        "earlystopping_cb = keras.callbacks.EarlyStopping(patience = 3, restore_best_weights = True)\n",
        "history = model4.fit(train_seq, train_target, epochs = 100, batch_size = 64,\n",
        "                     validation_data = (val_seq, val_target),\n",
        "                     callbacks = [checkpoint_cb, earlystopping_cb])"
      ],
      "metadata": {
        "colab": {
          "base_uri": "https://localhost:8080/"
        },
        "id": "5hwttNGsRAZo",
        "outputId": "360c1342-0e46-4e2b-d4ae-b718c868e83b"
      },
      "execution_count": 18,
      "outputs": [
        {
          "output_type": "stream",
          "name": "stdout",
          "text": [
            "Epoch 1/100\n",
            "313/313 [==============================] - 10s 23ms/step - loss: 0.6925 - accuracy: 0.5217 - val_loss: 0.6907 - val_accuracy: 0.5502\n",
            "Epoch 2/100\n",
            "313/313 [==============================] - 7s 21ms/step - loss: 0.6894 - accuracy: 0.5620 - val_loss: 0.6876 - val_accuracy: 0.5806\n",
            "Epoch 3/100\n",
            "313/313 [==============================] - 7s 21ms/step - loss: 0.6850 - accuracy: 0.5936 - val_loss: 0.6827 - val_accuracy: 0.6010\n",
            "Epoch 4/100\n",
            "313/313 [==============================] - 7s 21ms/step - loss: 0.6779 - accuracy: 0.6151 - val_loss: 0.6743 - val_accuracy: 0.6214\n",
            "Epoch 5/100\n",
            "313/313 [==============================] - 7s 21ms/step - loss: 0.6668 - accuracy: 0.6324 - val_loss: 0.6619 - val_accuracy: 0.6302\n",
            "Epoch 6/100\n",
            "313/313 [==============================] - 7s 21ms/step - loss: 0.6497 - accuracy: 0.6513 - val_loss: 0.6427 - val_accuracy: 0.6478\n",
            "Epoch 7/100\n",
            "313/313 [==============================] - 7s 21ms/step - loss: 0.6235 - accuracy: 0.6703 - val_loss: 0.6117 - val_accuracy: 0.6778\n",
            "Epoch 8/100\n",
            "313/313 [==============================] - 7s 21ms/step - loss: 0.5790 - accuracy: 0.7020 - val_loss: 0.5603 - val_accuracy: 0.7154\n",
            "Epoch 9/100\n",
            "313/313 [==============================] - 6s 21ms/step - loss: 0.5231 - accuracy: 0.7439 - val_loss: 0.5179 - val_accuracy: 0.7482\n",
            "Epoch 10/100\n",
            "313/313 [==============================] - 7s 21ms/step - loss: 0.4975 - accuracy: 0.7620 - val_loss: 0.5023 - val_accuracy: 0.7594\n",
            "Epoch 11/100\n",
            "313/313 [==============================] - 7s 21ms/step - loss: 0.4829 - accuracy: 0.7712 - val_loss: 0.4908 - val_accuracy: 0.7716\n",
            "Epoch 12/100\n",
            "313/313 [==============================] - 7s 21ms/step - loss: 0.4723 - accuracy: 0.7794 - val_loss: 0.4801 - val_accuracy: 0.7760\n",
            "Epoch 13/100\n",
            "313/313 [==============================] - 7s 21ms/step - loss: 0.4639 - accuracy: 0.7857 - val_loss: 0.4742 - val_accuracy: 0.7770\n",
            "Epoch 14/100\n",
            "313/313 [==============================] - 7s 21ms/step - loss: 0.4562 - accuracy: 0.7887 - val_loss: 0.4700 - val_accuracy: 0.7790\n",
            "Epoch 15/100\n",
            "313/313 [==============================] - 7s 21ms/step - loss: 0.4503 - accuracy: 0.7950 - val_loss: 0.4643 - val_accuracy: 0.7822\n",
            "Epoch 16/100\n",
            "313/313 [==============================] - 6s 21ms/step - loss: 0.4448 - accuracy: 0.7987 - val_loss: 0.4603 - val_accuracy: 0.7852\n",
            "Epoch 17/100\n",
            "313/313 [==============================] - 7s 21ms/step - loss: 0.4409 - accuracy: 0.8015 - val_loss: 0.4587 - val_accuracy: 0.7848\n",
            "Epoch 18/100\n",
            "313/313 [==============================] - 7s 21ms/step - loss: 0.4372 - accuracy: 0.8012 - val_loss: 0.4559 - val_accuracy: 0.7864\n",
            "Epoch 19/100\n",
            "313/313 [==============================] - 7s 21ms/step - loss: 0.4340 - accuracy: 0.8047 - val_loss: 0.4563 - val_accuracy: 0.7900\n",
            "Epoch 20/100\n",
            "313/313 [==============================] - 7s 21ms/step - loss: 0.4317 - accuracy: 0.8062 - val_loss: 0.4532 - val_accuracy: 0.7854\n",
            "Epoch 21/100\n",
            "313/313 [==============================] - 7s 21ms/step - loss: 0.4292 - accuracy: 0.8084 - val_loss: 0.4528 - val_accuracy: 0.7874\n",
            "Epoch 22/100\n",
            "313/313 [==============================] - 7s 21ms/step - loss: 0.4273 - accuracy: 0.8091 - val_loss: 0.4510 - val_accuracy: 0.7864\n",
            "Epoch 23/100\n",
            "313/313 [==============================] - 7s 21ms/step - loss: 0.4258 - accuracy: 0.8098 - val_loss: 0.4497 - val_accuracy: 0.7894\n",
            "Epoch 24/100\n",
            "313/313 [==============================] - 7s 21ms/step - loss: 0.4243 - accuracy: 0.8105 - val_loss: 0.4481 - val_accuracy: 0.7924\n",
            "Epoch 25/100\n",
            "313/313 [==============================] - 7s 21ms/step - loss: 0.4228 - accuracy: 0.8109 - val_loss: 0.4513 - val_accuracy: 0.7884\n",
            "Epoch 26/100\n",
            "313/313 [==============================] - 7s 21ms/step - loss: 0.4220 - accuracy: 0.8130 - val_loss: 0.4490 - val_accuracy: 0.7884\n",
            "Epoch 27/100\n",
            "313/313 [==============================] - 7s 21ms/step - loss: 0.4207 - accuracy: 0.8115 - val_loss: 0.4465 - val_accuracy: 0.7906\n",
            "Epoch 28/100\n",
            "313/313 [==============================] - 6s 21ms/step - loss: 0.4201 - accuracy: 0.8138 - val_loss: 0.4470 - val_accuracy: 0.7894\n",
            "Epoch 29/100\n",
            "313/313 [==============================] - 7s 21ms/step - loss: 0.4190 - accuracy: 0.8132 - val_loss: 0.4458 - val_accuracy: 0.7906\n",
            "Epoch 30/100\n",
            "313/313 [==============================] - 6s 21ms/step - loss: 0.4184 - accuracy: 0.8133 - val_loss: 0.4438 - val_accuracy: 0.7932\n",
            "Epoch 31/100\n",
            "313/313 [==============================] - 6s 21ms/step - loss: 0.4176 - accuracy: 0.8134 - val_loss: 0.4443 - val_accuracy: 0.7948\n",
            "Epoch 32/100\n",
            "313/313 [==============================] - 7s 21ms/step - loss: 0.4167 - accuracy: 0.8152 - val_loss: 0.4433 - val_accuracy: 0.7960\n",
            "Epoch 33/100\n",
            "313/313 [==============================] - 7s 21ms/step - loss: 0.4163 - accuracy: 0.8156 - val_loss: 0.4450 - val_accuracy: 0.7910\n",
            "Epoch 34/100\n",
            "313/313 [==============================] - 7s 21ms/step - loss: 0.4158 - accuracy: 0.8160 - val_loss: 0.4428 - val_accuracy: 0.7948\n",
            "Epoch 35/100\n",
            "313/313 [==============================] - 7s 21ms/step - loss: 0.4147 - accuracy: 0.8157 - val_loss: 0.4417 - val_accuracy: 0.7926\n",
            "Epoch 36/100\n",
            "313/313 [==============================] - 7s 21ms/step - loss: 0.4143 - accuracy: 0.8150 - val_loss: 0.4418 - val_accuracy: 0.7940\n",
            "Epoch 37/100\n",
            "313/313 [==============================] - 7s 21ms/step - loss: 0.4145 - accuracy: 0.8170 - val_loss: 0.4404 - val_accuracy: 0.7964\n",
            "Epoch 38/100\n",
            "313/313 [==============================] - 7s 21ms/step - loss: 0.4141 - accuracy: 0.8139 - val_loss: 0.4407 - val_accuracy: 0.7948\n",
            "Epoch 39/100\n",
            "313/313 [==============================] - 7s 21ms/step - loss: 0.4135 - accuracy: 0.8160 - val_loss: 0.4404 - val_accuracy: 0.7974\n",
            "Epoch 40/100\n",
            "313/313 [==============================] - 7s 21ms/step - loss: 0.4133 - accuracy: 0.8166 - val_loss: 0.4407 - val_accuracy: 0.7964\n",
            "Epoch 41/100\n",
            "313/313 [==============================] - 7s 21ms/step - loss: 0.4132 - accuracy: 0.8160 - val_loss: 0.4398 - val_accuracy: 0.7952\n",
            "Epoch 42/100\n",
            "313/313 [==============================] - 7s 21ms/step - loss: 0.4124 - accuracy: 0.8173 - val_loss: 0.4388 - val_accuracy: 0.7982\n",
            "Epoch 43/100\n",
            "313/313 [==============================] - 7s 21ms/step - loss: 0.4121 - accuracy: 0.8155 - val_loss: 0.4383 - val_accuracy: 0.7972\n",
            "Epoch 44/100\n",
            "313/313 [==============================] - 7s 21ms/step - loss: 0.4118 - accuracy: 0.8170 - val_loss: 0.4389 - val_accuracy: 0.7964\n",
            "Epoch 45/100\n",
            "313/313 [==============================] - 6s 21ms/step - loss: 0.4114 - accuracy: 0.8163 - val_loss: 0.4397 - val_accuracy: 0.7956\n",
            "Epoch 46/100\n",
            "313/313 [==============================] - 7s 21ms/step - loss: 0.4113 - accuracy: 0.8159 - val_loss: 0.4381 - val_accuracy: 0.7988\n",
            "Epoch 47/100\n",
            "313/313 [==============================] - 6s 21ms/step - loss: 0.4111 - accuracy: 0.8166 - val_loss: 0.4369 - val_accuracy: 0.7980\n",
            "Epoch 48/100\n",
            "313/313 [==============================] - 7s 21ms/step - loss: 0.4106 - accuracy: 0.8165 - val_loss: 0.4362 - val_accuracy: 0.7994\n",
            "Epoch 49/100\n",
            "313/313 [==============================] - 6s 21ms/step - loss: 0.4104 - accuracy: 0.8171 - val_loss: 0.4362 - val_accuracy: 0.7996\n",
            "Epoch 50/100\n",
            "313/313 [==============================] - 7s 21ms/step - loss: 0.4098 - accuracy: 0.8173 - val_loss: 0.4364 - val_accuracy: 0.7990\n",
            "Epoch 51/100\n",
            "313/313 [==============================] - 6s 21ms/step - loss: 0.4100 - accuracy: 0.8166 - val_loss: 0.4352 - val_accuracy: 0.8016\n",
            "Epoch 52/100\n",
            "313/313 [==============================] - 6s 21ms/step - loss: 0.4096 - accuracy: 0.8166 - val_loss: 0.4371 - val_accuracy: 0.7966\n",
            "Epoch 53/100\n",
            "313/313 [==============================] - 6s 21ms/step - loss: 0.4090 - accuracy: 0.8170 - val_loss: 0.4347 - val_accuracy: 0.8004\n",
            "Epoch 54/100\n",
            "313/313 [==============================] - 7s 21ms/step - loss: 0.4089 - accuracy: 0.8163 - val_loss: 0.4347 - val_accuracy: 0.8014\n",
            "Epoch 55/100\n",
            "313/313 [==============================] - 7s 21ms/step - loss: 0.4085 - accuracy: 0.8171 - val_loss: 0.4384 - val_accuracy: 0.7962\n",
            "Epoch 56/100\n",
            "313/313 [==============================] - 7s 21ms/step - loss: 0.4084 - accuracy: 0.8174 - val_loss: 0.4366 - val_accuracy: 0.7992\n",
            "Epoch 57/100\n",
            "313/313 [==============================] - 6s 21ms/step - loss: 0.4080 - accuracy: 0.8170 - val_loss: 0.4338 - val_accuracy: 0.8014\n",
            "Epoch 58/100\n",
            "313/313 [==============================] - 7s 21ms/step - loss: 0.4080 - accuracy: 0.8175 - val_loss: 0.4340 - val_accuracy: 0.8010\n",
            "Epoch 59/100\n",
            "313/313 [==============================] - 7s 21ms/step - loss: 0.4076 - accuracy: 0.8180 - val_loss: 0.4329 - val_accuracy: 0.8018\n",
            "Epoch 60/100\n",
            "313/313 [==============================] - 7s 21ms/step - loss: 0.4070 - accuracy: 0.8180 - val_loss: 0.4485 - val_accuracy: 0.7938\n",
            "Epoch 61/100\n",
            "313/313 [==============================] - 7s 21ms/step - loss: 0.4072 - accuracy: 0.8166 - val_loss: 0.4323 - val_accuracy: 0.8026\n",
            "Epoch 62/100\n",
            "313/313 [==============================] - 7s 22ms/step - loss: 0.4069 - accuracy: 0.8174 - val_loss: 0.4331 - val_accuracy: 0.8014\n",
            "Epoch 63/100\n",
            "313/313 [==============================] - 7s 21ms/step - loss: 0.4067 - accuracy: 0.8170 - val_loss: 0.4329 - val_accuracy: 0.8022\n",
            "Epoch 64/100\n",
            "313/313 [==============================] - 7s 21ms/step - loss: 0.4065 - accuracy: 0.8164 - val_loss: 0.4315 - val_accuracy: 0.8020\n",
            "Epoch 65/100\n",
            "313/313 [==============================] - 7s 21ms/step - loss: 0.4061 - accuracy: 0.8178 - val_loss: 0.4325 - val_accuracy: 0.8008\n",
            "Epoch 66/100\n",
            "313/313 [==============================] - 7s 21ms/step - loss: 0.4057 - accuracy: 0.8176 - val_loss: 0.4364 - val_accuracy: 0.7956\n",
            "Epoch 67/100\n",
            "313/313 [==============================] - 7s 22ms/step - loss: 0.4054 - accuracy: 0.8185 - val_loss: 0.4336 - val_accuracy: 0.7996\n"
          ]
        }
      ]
    },
    {
      "cell_type": "code",
      "source": [
        "plt.plot(history.history['loss'])\n",
        "plt.plot(history.history['val_loss'])\n",
        "plt.xlabel('epoch')\n",
        "plt.ylabel('loss')\n",
        "plt.legend(['train', 'val'])\n",
        "plt.show()"
      ],
      "metadata": {
        "colab": {
          "base_uri": "https://localhost:8080/",
          "height": 279
        },
        "id": "HMoTycPnRMiM",
        "outputId": "65bb7785-e075-40ff-f2e7-83fd0fb99338"
      },
      "execution_count": 19,
      "outputs": [
        {
          "output_type": "display_data",
          "data": {
            "text/plain": [
              "<Figure size 432x288 with 1 Axes>"
            ],
            "image/png": "[encoded data removed]"
          },
          "metadata": {
            "needs_background": "light"
          }
        }
      ]
    },
    {
      "cell_type": "code",
      "source": [
        "rnn_model = keras.models.load_model('best-2LSTM-model.h5')\n",
        "rnn_model.evaluate(test_seq, test_target)"
      ],
      "metadata": {
        "colab": {
          "base_uri": "https://localhost:8080/"
        },
        "id": "54rm6OGnRNsN",
        "outputId": "8c6c44a2-68ef-45d6-8fb4-622afd9da469"
      },
      "execution_count": 20,
      "outputs": [
        {
          "output_type": "stream",
          "name": "stdout",
          "text": [
            "782/782 [==============================] - 13s 16ms/step - loss: 0.4234 - accuracy: 0.8024\n"
          ]
        },
        {
          "output_type": "execute_result",
          "data": {
            "text/plain": [
              "[0.4233940541744232, 0.8024399876594543]"
            ]
          },
          "metadata": {},
          "execution_count": 20
        }
      ]
    }
  ]
}